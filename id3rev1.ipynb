{
 "cells": [
  {
   "cell_type": "code",
   "execution_count": 1,
   "metadata": {},
   "outputs": [
    {
     "name": "stdout",
     "output_type": "stream",
     "text": [
      "<class 'pandas.core.frame.DataFrame'>\n",
      "RangeIndex: 100000 entries, 0 to 99999\n",
      "Data columns (total 9 columns):\n",
      " #   Column               Non-Null Count   Dtype  \n",
      "---  ------               --------------   -----  \n",
      " 0   gender               100000 non-null  object \n",
      " 1   age                  100000 non-null  float64\n",
      " 2   hypertension         100000 non-null  int64  \n",
      " 3   heart_disease        100000 non-null  int64  \n",
      " 4   smoking_history      100000 non-null  object \n",
      " 5   bmi                  100000 non-null  float64\n",
      " 6   HbA1c_level          100000 non-null  float64\n",
      " 7   blood_glucose_level  100000 non-null  int64  \n",
      " 8   diabetes             100000 non-null  int64  \n",
      "dtypes: float64(3), int64(4), object(2)\n",
      "memory usage: 6.9+ MB\n"
     ]
    }
   ],
   "source": [
    "import pandas as pd\n",
    "from sklearn.tree import DecisionTreeClassifier\n",
    "from sklearn.model_selection import train_test_split\n",
    "from sklearn import metrics\n",
    "\n",
    "# Baca dataset\n",
    "df = pd.read_csv('diabetes_prediction_dataset.csv',encoding='latin1')\n",
    "df.info()"
   ]
  },
  {
   "cell_type": "markdown",
   "metadata": {},
   "source": [
    "Ganti tipe data dan pisahkan data x,y"
   ]
  },
  {
   "cell_type": "code",
   "execution_count": 2,
   "metadata": {},
   "outputs": [
    {
     "name": "stdout",
     "output_type": "stream",
     "text": [
      "<class 'pandas.core.frame.DataFrame'>\n",
      "RangeIndex: 100000 entries, 0 to 99999\n",
      "Data columns (total 9 columns):\n",
      " #   Column               Non-Null Count   Dtype  \n",
      "---  ------               --------------   -----  \n",
      " 0   gender               100000 non-null  int8   \n",
      " 1   age                  100000 non-null  float64\n",
      " 2   hypertension         100000 non-null  int64  \n",
      " 3   heart_disease        100000 non-null  int64  \n",
      " 4   smoking_history      100000 non-null  int8   \n",
      " 5   bmi                  100000 non-null  float64\n",
      " 6   HbA1c_level          100000 non-null  float64\n",
      " 7   blood_glucose_level  100000 non-null  int64  \n",
      " 8   diabetes             100000 non-null  int64  \n",
      "dtypes: float64(3), int64(4), int8(2)\n",
      "memory usage: 5.5 MB\n"
     ]
    }
   ],
   "source": [
    "df['gender'] = df['gender'].astype('category').cat.codes\n",
    "df['smoking_history'] = df['smoking_history'].astype('category').cat.codes\n",
    "\n",
    "x = df.iloc[:, 0:8]\n",
    "y = df.iloc[:, 8]\n",
    "df.info()"
   ]
  },
  {
   "cell_type": "code",
   "execution_count": 3,
   "metadata": {},
   "outputs": [
    {
     "data": {
      "text/plain": [
       "diabetes\n",
       "0    91500\n",
       "1     8500\n",
       "Name: count, dtype: int64"
      ]
     },
     "execution_count": 3,
     "metadata": {},
     "output_type": "execute_result"
    }
   ],
   "source": [
    "df['diabetes'].value_counts()"
   ]
  },
  {
   "cell_type": "markdown",
   "metadata": {},
   "source": [
    "Buat data uji dan data latih serta objek id3"
   ]
  },
  {
   "cell_type": "code",
   "execution_count": 4,
   "metadata": {},
   "outputs": [],
   "source": [
    "x_train, x_test, y_train, y_test = train_test_split(x, y, test_size=0.2, random_state=99)\n",
    "\n",
    "clf = DecisionTreeClassifier()"
   ]
  },
  {
   "cell_type": "markdown",
   "metadata": {},
   "source": [
    "Latih model dan prediksi"
   ]
  },
  {
   "cell_type": "code",
   "execution_count": 5,
   "metadata": {},
   "outputs": [],
   "source": [
    "import pickle\n",
    "clf = clf.fit(x_train, y_train)\n",
    "\n",
    "with open('diabetes_decision_tree_model.pkl', 'wb') as model_file:\n",
    "    pickle.dump(clf, model_file)\n",
    "\n",
    "y_pred = clf.predict(x_test)"
   ]
  },
  {
   "cell_type": "markdown",
   "metadata": {},
   "source": [
    "Cek akurasi"
   ]
  },
  {
   "cell_type": "code",
   "execution_count": 6,
   "metadata": {},
   "outputs": [
    {
     "name": "stdout",
     "output_type": "stream",
     "text": [
      "Akurasi: 0.95315\n"
     ]
    }
   ],
   "source": [
    "accuracy = metrics.accuracy_score(y_test, y_pred)\n",
    "\n",
    "print(f\"Akurasi: {accuracy}\")"
   ]
  },
  {
   "cell_type": "markdown",
   "metadata": {},
   "source": [
    "Memasukkan data baru"
   ]
  },
  {
   "cell_type": "code",
   "execution_count": 7,
   "metadata": {},
   "outputs": [
    {
     "name": "stdout",
     "output_type": "stream",
     "text": [
      "<class 'pandas.core.frame.DataFrame'>\n",
      "RangeIndex: 15 entries, 0 to 14\n",
      "Data columns (total 8 columns):\n",
      " #   Column               Non-Null Count  Dtype  \n",
      "---  ------               --------------  -----  \n",
      " 0   gender               15 non-null     object \n",
      " 1   age                  15 non-null     int64  \n",
      " 2   hypertension         15 non-null     int64  \n",
      " 3   heart_disease        15 non-null     int64  \n",
      " 4   smoking_history      15 non-null     object \n",
      " 5   bmi                  15 non-null     float64\n",
      " 6   HbA1c_level          15 non-null     float64\n",
      " 7   blood_glucose_level  15 non-null     int64  \n",
      "dtypes: float64(2), int64(4), object(2)\n",
      "memory usage: 1.1+ KB\n"
     ]
    }
   ],
   "source": [
    "testing_df = pd.read_csv('testing.csv')\n",
    "testing_df.info()"
   ]
  },
  {
   "cell_type": "markdown",
   "metadata": {},
   "source": [
    "Ganti tipe data ke number serta menambahkan kolom baru"
   ]
  },
  {
   "cell_type": "code",
   "execution_count": 8,
   "metadata": {},
   "outputs": [
    {
     "name": "stdout",
     "output_type": "stream",
     "text": [
      "<class 'pandas.core.frame.DataFrame'>\n",
      "RangeIndex: 15 entries, 0 to 14\n",
      "Data columns (total 9 columns):\n",
      " #   Column               Non-Null Count  Dtype  \n",
      "---  ------               --------------  -----  \n",
      " 0   gender               15 non-null     int8   \n",
      " 1   age                  15 non-null     int64  \n",
      " 2   hypertension         15 non-null     int64  \n",
      " 3   heart_disease        15 non-null     int64  \n",
      " 4   smoking_history      15 non-null     int8   \n",
      " 5   bmi                  15 non-null     float64\n",
      " 6   HbA1c_level          15 non-null     float64\n",
      " 7   blood_glucose_level  15 non-null     int64  \n",
      " 8   diabetes             15 non-null     int64  \n",
      "dtypes: float64(2), int64(5), int8(2)\n",
      "memory usage: 998.0 bytes\n"
     ]
    }
   ],
   "source": [
    "testing_df['gender'] = testing_df['gender'].astype('category').cat.codes\n",
    "testing_df['smoking_history'] = testing_df['smoking_history'].astype('category').cat.codes\n",
    "\n",
    "testing_df['diabetes'] = 0\n",
    "testing_df.info()"
   ]
  },
  {
   "cell_type": "markdown",
   "metadata": {},
   "source": [
    "Melakukan prediksi dan memasukkan hasil prediksi ke kolom baru"
   ]
  },
  {
   "cell_type": "code",
   "execution_count": 9,
   "metadata": {},
   "outputs": [],
   "source": [
    "y_pred_testing = clf.predict(testing_df.iloc[:, 0:8])\n",
    "\n",
    "testing_df['diabetes'] = y_pred_testing"
   ]
  },
  {
   "cell_type": "markdown",
   "metadata": {},
   "source": [
    "Menampilkan data dengan looping"
   ]
  },
  {
   "cell_type": "code",
   "execution_count": 10,
   "metadata": {},
   "outputs": [
    {
     "name": "stdout",
     "output_type": "stream",
     "text": [
      "data ke 1 adalah non-diabetes\n",
      "data ke 2 adalah diabetes\n",
      "data ke 3 adalah diabetes\n",
      "data ke 4 adalah non-diabetes\n",
      "data ke 5 adalah non-diabetes\n",
      "data ke 6 adalah non-diabetes\n",
      "data ke 7 adalah non-diabetes\n",
      "data ke 8 adalah non-diabetes\n",
      "data ke 9 adalah non-diabetes\n",
      "data ke 10 adalah diabetes\n",
      "data ke 11 adalah diabetes\n",
      "data ke 12 adalah non-diabetes\n",
      "data ke 13 adalah non-diabetes\n",
      "data ke 14 adalah non-diabetes\n",
      "data ke 15 adalah non-diabetes\n"
     ]
    }
   ],
   "source": [
    "for i, row in testing_df.iterrows():\n",
    "    if row['diabetes'] == 1:\n",
    "        print(f\"data ke {i + 1} adalah diabetes\")\n",
    "    else:\n",
    "        print(f\"data ke {i + 1} adalah non-diabetes\")"
   ]
  }
 ],
 "metadata": {
  "kernelspec": {
   "display_name": "Python 3",
   "language": "python",
   "name": "python3"
  },
  "language_info": {
   "codemirror_mode": {
    "name": "ipython",
    "version": 3
   },
   "file_extension": ".py",
   "mimetype": "text/x-python",
   "name": "python",
   "nbconvert_exporter": "python",
   "pygments_lexer": "ipython3",
   "version": "3.8.10"
  },
  "orig_nbformat": 4
 },
 "nbformat": 4,
 "nbformat_minor": 2
}
